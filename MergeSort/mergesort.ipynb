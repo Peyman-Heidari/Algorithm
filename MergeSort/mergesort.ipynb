{
 "cells": [
  {
   "cell_type": "code",
   "execution_count": 52,
   "metadata": {
    "collapsed": false
   },
   "outputs": [],
   "source": [
    "def mergesort(x):\n",
    "    merged = []\n",
    "    n = len(x)\n",
    "    if n<2:\n",
    "        return x\n",
    "    else:\n",
    "        left = x[:int(n/2)]\n",
    "        right = x[int(n/2):]\n",
    "        left = mergesort(left)\n",
    "        right = mergesort(right)\n",
    "        i = 0\n",
    "        j = 0\n",
    "        n_left = len(left)\n",
    "        n_right = len(right)\n",
    "        while i < n_left and j <n_right : \n",
    "            if left[i] < right[j]:\n",
    "                merged.append(left[i])\n",
    "                i +=1\n",
    "            elif left[i] > right[j]:\n",
    "                merged.append(right[j])\n",
    "                j +=1\n",
    "        merged += left[i:]\n",
    "        merged += right[j:]\n",
    "        return merged"
   ]
  },
  {
   "cell_type": "code",
   "execution_count": 53,
   "metadata": {
    "collapsed": false
   },
   "outputs": [
    {
     "data": {
      "text/plain": [
       "[0, 1, 3, 4, 8]"
      ]
     },
     "execution_count": 53,
     "metadata": {},
     "output_type": "execute_result"
    }
   ],
   "source": [
    "mergesort([1,3,4,8,0])"
   ]
  },
  {
   "cell_type": "code",
   "execution_count": null,
   "metadata": {
    "collapsed": true
   },
   "outputs": [],
   "source": []
  }
 ],
 "metadata": {
  "kernelspec": {
   "display_name": "Python 2",
   "language": "python",
   "name": "python2"
  },
  "language_info": {
   "codemirror_mode": {
    "name": "ipython",
    "version": 2
   },
   "file_extension": ".py",
   "mimetype": "text/x-python",
   "name": "python",
   "nbconvert_exporter": "python",
   "pygments_lexer": "ipython2",
   "version": "2.7.12"
  }
 },
 "nbformat": 4,
 "nbformat_minor": 0
}
