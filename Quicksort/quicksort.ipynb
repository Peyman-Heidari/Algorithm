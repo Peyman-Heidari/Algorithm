{
 "cells": [
  {
   "cell_type": "code",
   "execution_count": 1,
   "metadata": {
    "collapsed": false
   },
   "outputs": [],
   "source": [
    "def pickfirst(x):\n",
    "    pivot = x[0]\n",
    "    return x, pivot\n",
    "            "
   ]
  },
  {
   "cell_type": "code",
   "execution_count": 2,
   "metadata": {
    "collapsed": true
   },
   "outputs": [],
   "source": [
    "def picklast(x):\n",
    "    temp = x[-1]\n",
    "    x[-1] = x[0]\n",
    "    x[0] = temp\n",
    "    pivot = x[0]\n",
    "    return x, pivot"
   ]
  },
  {
   "cell_type": "code",
   "execution_count": 98,
   "metadata": {
    "collapsed": false
   },
   "outputs": [],
   "source": [
    "def medianofthree(x):\n",
    "    import statistics, math\n",
    "    first = x[0]\n",
    "    last = x[-1]\n",
    "    n = len(x)-1\n",
    "    mid_index = int(math.floor(n/2))\n",
    "    middle = x[mid_index]\n",
    "    choices = sorted([first, middle, last])\n",
    "    median = choices[1]\n",
    "    if median==first:\n",
    "        return pickfirst(x)\n",
    "    elif median==last:\n",
    "        return picklast(x)\n",
    "    elif median==middle:\n",
    "        x[mid_index] = first\n",
    "        x[0] = middle\n",
    "        return x, middle"
   ]
  },
  {
   "cell_type": "code",
   "execution_count": 117,
   "metadata": {
    "collapsed": true
   },
   "outputs": [],
   "source": [
    "def quicksort(x):\n",
    "    n = len(x)\n",
    "    comparisons = 0\n",
    "    if n<2:\n",
    "        return x, comparisons\n",
    "    else:\n",
    "        x, pivot = medianofthree(x)\n",
    "        i = 0\n",
    "        for j in range(1,n):\n",
    "            if x[j] > pivot:\n",
    "                comparisons +=1\n",
    "            elif x[j] <= pivot:\n",
    "                i +=1\n",
    "                temp = x[j]\n",
    "                x[j] = x[i]\n",
    "                x[i] = temp                \n",
    "                comparisons +=1\n",
    "                \n",
    "        temp = x[0]\n",
    "        x[0] = x[i]\n",
    "        x[i] = temp\n",
    "        x_left = x[:i]\n",
    "        x_right =x[i+1:]\n",
    "        x_left , comparions_left = quicksort(x_left)\n",
    "        x_right , comparions_right = quicksort(x_right)\n",
    "        comparisons = comparisons+comparions_left+comparions_right\n",
    "        x[:i] = x_left\n",
    "        x[i+1:] = x_right\n",
    "        return x, comparisons\n",
    "                \n",
    "            "
   ]
  },
  {
   "cell_type": "code",
   "execution_count": 118,
   "metadata": {
    "collapsed": false
   },
   "outputs": [],
   "source": [
    "import pandas as pd"
   ]
  },
  {
   "cell_type": "code",
   "execution_count": 119,
   "metadata": {
    "collapsed": false
   },
   "outputs": [],
   "source": [
    "data = pd.read_csv('data.csv', header=None)"
   ]
  },
  {
   "cell_type": "code",
   "execution_count": 120,
   "metadata": {
    "collapsed": false
   },
   "outputs": [],
   "source": [
    "data_list = data[0].tolist()\n"
   ]
  },
  {
   "cell_type": "code",
   "execution_count": 121,
   "metadata": {
    "collapsed": true
   },
   "outputs": [],
   "source": [
    "d, n = quicksort(data_list)"
   ]
  },
  {
   "cell_type": "code",
   "execution_count": 122,
   "metadata": {
    "collapsed": false
   },
   "outputs": [
    {
     "data": {
      "text/plain": [
       "138382"
      ]
     },
     "execution_count": 122,
     "metadata": {},
     "output_type": "execute_result"
    }
   ],
   "source": [
    "n"
   ]
  },
  {
   "cell_type": "code",
   "execution_count": null,
   "metadata": {
    "collapsed": true
   },
   "outputs": [],
   "source": []
  }
 ],
 "metadata": {
  "kernelspec": {
   "display_name": "Python 2",
   "language": "python",
   "name": "python2"
  },
  "language_info": {
   "codemirror_mode": {
    "name": "ipython",
    "version": 2
   },
   "file_extension": ".py",
   "mimetype": "text/x-python",
   "name": "python",
   "nbconvert_exporter": "python",
   "pygments_lexer": "ipython2",
   "version": "2.7.12"
  }
 },
 "nbformat": 4,
 "nbformat_minor": 0
}
