{
 "cells": [
  {
   "cell_type": "code",
   "execution_count": 187,
   "metadata": {
    "collapsed": true
   },
   "outputs": [],
   "source": [
    "import pandas as pd\n",
    "import re"
   ]
  },
  {
   "cell_type": "code",
   "execution_count": 188,
   "metadata": {
    "collapsed": false
   },
   "outputs": [],
   "source": [
    "def get_graph(file_ame):\n",
    "    f = open(file_ame, 'r')\n",
    "    line = f.readline()\n",
    "    graph = pd.DataFrame({'head_node':[], 'tail_node':[], 'distance':[]})\n",
    "    while line:\n",
    "        splited_line = re.split('\\t| |,',line.strip())\n",
    "        head = int(splited_line[0])\n",
    "        splited_line.remove(splited_line[0])\n",
    "        for pair in range(int(len(splited_line)/2)):\n",
    "            tail = int(splited_line[pair*2])\n",
    "            distance = int(splited_line[pair*2+1])\n",
    "            graph = graph.append(pd.DataFrame({'head_node':[head], 'tail_node':[tail], 'distance':[distance]}))\n",
    "        line = f.readline()\n",
    "    graph.reset_index(inplace= True)\n",
    "    graph.drop('index', axis=1, inplace= True)\n",
    "    return graph"
   ]
  },
  {
   "cell_type": "code",
   "execution_count": 189,
   "metadata": {
    "collapsed": false
   },
   "outputs": [],
   "source": [
    "#graph =  get_graph('simplegraph.txt')\n",
    "graph =  get_graph('data.txt')"
   ]
  },
  {
   "cell_type": "code",
   "execution_count": 190,
   "metadata": {
    "collapsed": false
   },
   "outputs": [],
   "source": [
    "def bfs(graph, starting_node):\n",
    "    reachable_nodes = []\n",
    "    start_node=1\n",
    "    subset_graph = graph.loc[graph['head_node']==start_node]\n",
    "    tail_nodes = subset_graph.groupby(\"tail_node\", as_index=False)[\"distance\"].min()['tail_node'].tolist()\n",
    "    additions = [x for x in tail_nodes if x not in reachable_nodes]\n",
    "    while len(additions)>0:\n",
    "        reachable_nodes = reachable_nodes + additions\n",
    "        subset_graph = graph.loc[graph['head_node'].isin(additions)]\n",
    "        tail_nodes = subset_graph.groupby(\"tail_node\", as_index=False)[\"distance\"].min()['tail_node'].tolist()\n",
    "        additions = [x for x in tail_nodes if x not in reachable_nodes]\n",
    "    return sorted(reachable_nodes)\n",
    "reachable_nodes = bfs(graph, starting_node=1)\n"
   ]
  },
  {
   "cell_type": "code",
   "execution_count": 193,
   "metadata": {
    "collapsed": false
   },
   "outputs": [],
   "source": [
    "def dijkstras(graph, starting_node):\n",
    "    unexplored_nodes = bfs(graph, starting_node)+[starting_node]\n",
    "    explored_nodes = []\n",
    "    shortest_distance={}\n",
    "    node_heap = {starting_node:0}\n",
    "    while len(unexplored_nodes)>0:\n",
    "        next_node_to_explore = min(node_heap, key=node_heap.get)\n",
    "        next_node_val_currently = node_heap.pop(next_node_to_explore,0)\n",
    "        shortest_distance[next_node_to_explore] = next_node_val_currently\n",
    "        unexplored_nodes.remove(next_node_to_explore)\n",
    "        explored_nodes.append(next_node_to_explore)\n",
    "        subset_graph = graph.loc[(graph.head_node==next_node_to_explore) & (graph.tail_node.isin(unexplored_nodes))]\n",
    "        subset_graph_minimized_unique = subset_graph.groupby(\"tail_node\", as_index=False)[\"distance\"].min()\n",
    "        subset_graph_minimized_unique.distance += next_node_val_currently\n",
    "        for node in range(len(subset_graph_minimized_unique)):\n",
    "            tail = subset_graph_minimized_unique.loc[node][0] \n",
    "            if tail not in node_heap:\n",
    "                node_heap[subset_graph_minimized_unique.loc[node][0]]=subset_graph_minimized_unique.loc[node][1]\n",
    "            elif tail in node_heap:\n",
    "                current_val_in_heap = node_heap[tail]\n",
    "                if subset_graph_minimized_unique.loc[node][1] < current_val_in_heap:\n",
    "                    node_heap[subset_graph_minimized_unique.loc[node][0]]=subset_graph_minimized_unique.loc[node][1]\n",
    "                \n",
    "    return shortest_distance"
   ]
  },
  {
   "cell_type": "code",
   "execution_count": 194,
   "metadata": {
    "collapsed": false
   },
   "outputs": [],
   "source": [
    "shortest_distance = dijkstras(graph, 1)"
   ]
  },
  {
   "cell_type": "code",
   "execution_count": 195,
   "metadata": {
    "collapsed": false
   },
   "outputs": [
    {
     "name": "stdout",
     "output_type": "stream",
     "text": [
      "2599.0,2610.0,2947.0,2052.0,2367.0,2399.0,2029.0,2442.0,2505.0,3068.0,\n"
     ]
    }
   ],
   "source": [
    "interested_nodes = [7, 37, 59, 82, 99, 115, 133, 165, 188, 197]\n",
    "result=''\n",
    "for nodes in interested_nodes:\n",
    "    result += str(shortest_distance[nodes])+','\n",
    "print (result)"
   ]
  },
  {
   "cell_type": "code",
   "execution_count": null,
   "metadata": {
    "collapsed": true
   },
   "outputs": [],
   "source": []
  }
 ],
 "metadata": {
  "anaconda-cloud": {},
  "kernelspec": {
   "display_name": "Python [Root]",
   "language": "python",
   "name": "Python [Root]"
  },
  "language_info": {
   "codemirror_mode": {
    "name": "ipython",
    "version": 3
   },
   "file_extension": ".py",
   "mimetype": "text/x-python",
   "name": "python",
   "nbconvert_exporter": "python",
   "pygments_lexer": "ipython3",
   "version": "3.5.2"
  }
 },
 "nbformat": 4,
 "nbformat_minor": 1
}
